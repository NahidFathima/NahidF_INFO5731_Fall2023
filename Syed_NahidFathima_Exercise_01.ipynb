{
  "cells": [
    {
      "cell_type": "markdown",
      "metadata": {
        "id": "DymRJbxDBCnf"
      },
      "source": [
        "# **The first In-class-exercise (08/30/2023, 40 points in total)**\n",
        "This exercise is due tomorrow 08/31/203 11:59 PM.\n"
      ]
    },
    {
      "cell_type": "markdown",
      "source": [
        "(1) Write a Python program to calculate the area of a rectangle using user-input length and width."
      ],
      "metadata": {
        "id": "FBKvD6O_TY6e"
      }
    },
    {
      "cell_type": "code",
      "source": [
        "# Program for area of rectangle\n",
        "length = int(input(\"Enter the lenght of the rectangle : \")) #taking input for length\n",
        "width = int(input(\"Enter the width of the rectangle : \")) #taking input for width(breadth)\n",
        "\n",
        "Area = length * width   #formula for area\n",
        "print(f\"Area of rectangle is : {Area}.\")  #printing the output"
      ],
      "metadata": {
        "id": "cikVKDXdTbzE",
        "colab": {
          "base_uri": "https://localhost:8080/"
        },
        "outputId": "1bcb484d-34b9-4891-daee-dc340b065429"
      },
      "execution_count": 2,
      "outputs": [
        {
          "output_type": "stream",
          "name": "stdout",
          "text": [
            "Entet the lenght of the rectangle : 15\n",
            "Enter the width of the rectangle : 4\n",
            "Area of rectangle is : 60.\n"
          ]
        }
      ]
    },
    {
      "cell_type": "markdown",
      "source": [
        "(2) Create a program that takes two numbers from the user and swaps their values without using a temporary variable."
      ],
      "metadata": {
        "id": "E9RqrlwdTfvl"
      }
    },
    {
      "cell_type": "code",
      "source": [
        "# Swapping two numbers without temp variable\n",
        "a = int(input(\"Enter the first number : \"))  # taking inputs from user\n",
        "b = int(input(\"Enter the second number : \"))\n",
        "\n",
        "a,b = b,a  # swapping the numbers\n",
        "print(f\"The first number after swapping is : {a}\")  # printing numbers after swapping\n",
        "print(f\"The second number after swapping is : {b}\")"
      ],
      "metadata": {
        "id": "4XvRknixTh1g",
        "colab": {
          "base_uri": "https://localhost:8080/"
        },
        "outputId": "7c33728d-af97-4a08-b91a-2c70fbdf1d64"
      },
      "execution_count": 48,
      "outputs": [
        {
          "output_type": "stream",
          "name": "stdout",
          "text": [
            "Enter the first number : 27\n",
            "Enter the second number : 99\n",
            "The first number after swapping is : 99\n",
            "The second number after swapping is : 27\n"
          ]
        }
      ]
    },
    {
      "cell_type": "markdown",
      "metadata": {
        "id": "03jb4GZsBkBS"
      },
      "source": [
        "(3) Write a Python program to calculate the length of a string."
      ]
    },
    {
      "cell_type": "code",
      "execution_count": 3,
      "metadata": {
        "id": "YaGLbSHHB8Ej",
        "colab": {
          "base_uri": "https://localhost:8080/"
        },
        "outputId": "2146842b-8195-48d8-d6e1-44c38934f19f"
      },
      "outputs": [
        {
          "output_type": "stream",
          "name": "stdout",
          "text": [
            "Length of the string is 23\n"
          ]
        }
      ],
      "source": [
        "# Calculating length of the string\n",
        "str1ng = 'First in class exercise' # example string\n",
        "# calculating and printing the length using len function\n",
        "print(f\"Length of the string is {len(str1ng)}\")"
      ]
    },
    {
      "cell_type": "markdown",
      "metadata": {
        "id": "jJDe71iLB616"
      },
      "source": [
        "(4) Write a Python program to count the number of characters in a string.\n",
        "\n",
        "Sample String : 'google.com‘,\n",
        "\n",
        "Expected Result : {'o': 3, 'g': 2, '.': 1, 'e': 1, 'l': 1, 'm': 1, 'c': 1}"
      ]
    },
    {
      "cell_type": "code",
      "execution_count": 4,
      "metadata": {
        "id": "MtKskTzbCLaU",
        "colab": {
          "base_uri": "https://localhost:8080/"
        },
        "outputId": "f45040d0-52b1-41d1-eeac-6cc7ddfcc9cc"
      },
      "outputs": [
        {
          "output_type": "stream",
          "name": "stdout",
          "text": [
            "Counter({'o': 3, 'g': 2, 'l': 1, 'e': 1, '.': 1, 'c': 1, 'm': 1})\n"
          ]
        }
      ],
      "source": [
        "# Program to calculate the number of characters in a string\n",
        "from collections import Counter\n",
        "# importing counter, which is an in-built python function used for counting characters in collections like strings.\n",
        "\n",
        "str_ng = 'google.com' # given string\n",
        "count_str_ng = Counter(str_ng) # assigning the count to a new variable\n",
        "print(count_str_ng) # printing the output\n"
      ]
    },
    {
      "cell_type": "markdown",
      "metadata": {
        "id": "55W9AMdXCSpV"
      },
      "source": [
        "(5) Write a Python program to sum all the items in a list."
      ]
    },
    {
      "cell_type": "code",
      "execution_count": 7,
      "metadata": {
        "id": "I57NXsauCec2",
        "colab": {
          "base_uri": "https://localhost:8080/"
        },
        "outputId": "89308eb0-83b6-4c9d-c794-a61f5238c005"
      },
      "outputs": [
        {
          "output_type": "stream",
          "name": "stdout",
          "text": [
            "The items in the list are : [2, 2, 5, 4, 5, 10, 24]\n",
            "Sum of the list is : 52\n"
          ]
        }
      ],
      "source": [
        "# Sum of all items in  a list\n",
        "li_t = [2,2,5,4,5,10,24]  # sample list\n",
        "# calculating sum using sum function and printing the output\n",
        "print(f\"The items in the list are : {li_t}\")\n",
        "print(f\"Sum of the list is : {sum(li_t)}\")\n"
      ]
    },
    {
      "cell_type": "markdown",
      "metadata": {
        "id": "4ulBZ6yhCi9F"
      },
      "source": [
        "(6) Write a Python program to get a string from a given string where all occurrences of its first char have been changed to '\\$', except the first char itself.\n",
        "\n",
        "Sample String : 'restart‘,\n",
        "\n",
        "Expected Result : 'resta\\$t'"
      ]
    },
    {
      "cell_type": "code",
      "execution_count": 11,
      "metadata": {
        "id": "Fj0XhwbBCw2o",
        "colab": {
          "base_uri": "https://localhost:8080/"
        },
        "outputId": "f11285a0-0d18-4014-9880-6a8ba61c7f2d"
      },
      "outputs": [
        {
          "output_type": "stream",
          "name": "stdout",
          "text": [
            "Original string : reciprocate\n",
            "New string from the original : recip$ocate\n"
          ]
        }
      ],
      "source": [
        "my_string = 'reciprocate'    # sample string\n",
        "print(f\"Original string : {my_string}\")\n",
        "\n",
        "def replace_char():    # writing a function for replacing the first character occurence as '$'\n",
        "  first_char = my_string[0]  # assigniong the first character to a varaible\n",
        "  new_string = first_char + my_string[1: ].replace(first_char, '$')  # replacing all the first character occurances with '$'\n",
        "  return new_string\n",
        "\n",
        "print(f\"New string from the original : {replace_char()}\")  # printing the output\n"
      ]
    },
    {
      "cell_type": "markdown",
      "source": [
        "(7) Create a program that calculates the factorial of a number using a while loop."
      ],
      "metadata": {
        "id": "qVXA3q7ET5JI"
      }
    },
    {
      "cell_type": "code",
      "source": [
        "# factorial using while loop\n",
        "num = int(input(\"Enter a number: \"))  # input asking for a number\n",
        "\n",
        "def fact_calculate(n):   # creating a function that uses while loop to calculate factorial of given number taken from input\n",
        "    fact = 1\n",
        "    while n > 1:\n",
        "        fact *= n\n",
        "        n -= 1\n",
        "    return fact\n",
        "\n",
        "# printing the result\n",
        "print(f\"Factorial of {num} is : {fact_calculate(num)}\")\n"
      ],
      "metadata": {
        "id": "Lbt7R6UkT7BA",
        "colab": {
          "base_uri": "https://localhost:8080/"
        },
        "outputId": "1559ce02-0e08-4967-e5bb-3c45da234640"
      },
      "execution_count": 10,
      "outputs": [
        {
          "output_type": "stream",
          "name": "stdout",
          "text": [
            "Enter a number: 5\n",
            "Factorial of 5 is : 120\n"
          ]
        }
      ]
    },
    {
      "cell_type": "markdown",
      "source": [
        "(8) Create a program that takes a list of numbers as input and outputs a new list with only the even numbers."
      ],
      "metadata": {
        "id": "6YfbzXMNT--R"
      }
    },
    {
      "cell_type": "code",
      "source": [
        "li_st = []\n",
        "\n",
        "# asking for number of elements as input\n",
        "inp_list = int(input(\"Enter number of elements : \"))\n",
        "\n",
        "# looping to the range and taking numbers to add to list\n",
        "for n in range(0, inp_list):\n",
        "\tnums = int(input(\" Enter the numbers you want to add to the list : \"))\n",
        "\t# adding the element\n",
        "\tli_st.append(nums)\n",
        "\n",
        "print(f\"The original list is  : {li_st}\")\n",
        "\n",
        "def even_list(list1): # creating a function to create a list with only even numbers from original list\n",
        "\n",
        "  new_list = [] # creating a blank new list for even numbers\n",
        "  for x in list1: # iterating to check for even numbers\n",
        "    if x % 2 == 0:\n",
        "      new_list.append(x) # adding the even numbers to the new list\n",
        "  return new_list\n",
        "\n",
        "print(f\"The new list is : {even_list(li_st)}\")   # printing output\n",
        "\n"
      ],
      "metadata": {
        "id": "54q7wMQPUAKu",
        "colab": {
          "base_uri": "https://localhost:8080/"
        },
        "outputId": "dbdf9b0c-df51-4f85-d593-6a51020b6b52"
      },
      "execution_count": 12,
      "outputs": [
        {
          "output_type": "stream",
          "name": "stdout",
          "text": [
            "Enter number of elements : 8\n",
            " Enter the numbers you want to add to the list : 25\n",
            " Enter the numbers you want to add to the list : 100\n",
            " Enter the numbers you want to add to the list : 1003\n",
            " Enter the numbers you want to add to the list : 5\n",
            " Enter the numbers you want to add to the list : 44\n",
            " Enter the numbers you want to add to the list : 28\n",
            " Enter the numbers you want to add to the list : 15\n",
            " Enter the numbers you want to add to the list : 4008\n",
            "The original list is  : [25, 100, 1003, 5, 44, 28, 15, 4008]\n",
            "The new list is : [100, 44, 28, 4008]\n"
          ]
        }
      ]
    },
    {
      "cell_type": "markdown",
      "metadata": {
        "id": "_bIP7s1MCzue"
      },
      "source": [
        "(9) Write a program with python which could accept two parameter a and b to calculate and output the result of S, where\n",
        "\n",
        "$\\ S=3.14*(1+a/b)^3$\n",
        "\n"
      ]
    },
    {
      "cell_type": "code",
      "execution_count": 13,
      "metadata": {
        "id": "w79QilHXD3Mg",
        "colab": {
          "base_uri": "https://localhost:8080/"
        },
        "outputId": "94a66048-f90a-4340-b9c3-f05f01a3f82c"
      },
      "outputs": [
        {
          "output_type": "stream",
          "name": "stdout",
          "text": [
            "enter a number for a : 4\n",
            "enter a number for b : 3\n",
            "39.88962962962962\n"
          ]
        }
      ],
      "source": [
        "a = float(input(\"enter a number for a : \"))\n",
        "b = float(input(\"enter a number for b : \"))\n",
        "\n",
        "S=3.14*(1+a/b)**3\n",
        "\n",
        "print(S)"
      ]
    },
    {
      "cell_type": "markdown",
      "metadata": {
        "id": "xCa2bK9aD4Q3"
      },
      "source": [
        "(10) Write a Python program to concatenate following dictionaries to create a new one.\n",
        "\n",
        "Sample Dictionary : dic1={1:10, 2:20}, dic2={3:30, 4:40}, dic3={5:50,6:60},\n",
        "\n",
        "Expected Result : {1: 10, 2: 20, 3: 30, 4: 40, 5: 50, 6: 60}\n"
      ]
    },
    {
      "cell_type": "code",
      "execution_count": 14,
      "metadata": {
        "id": "_z4aLqAbEET1",
        "colab": {
          "base_uri": "https://localhost:8080/"
        },
        "outputId": "7376291b-2833-4401-91cf-03d2102ae0d7"
      },
      "outputs": [
        {
          "output_type": "stream",
          "name": "stdout",
          "text": [
            "Concatenated list  :  {1: 10, 2: 20, 3: 30, 4: 40, 5: 50, 6: 60}\n"
          ]
        }
      ],
      "source": [
        "# Concatenating dictionaries\n",
        "dict_1 = {1:10, 2:20}\n",
        "dict_2 = {3:30, 4:40}\n",
        "dict_3 = {5:50, 6:60}\n",
        "\n",
        "concat_result = {**dict_1, **dict_2, **dict_3}  # merging dictionaries\n",
        "\n",
        "print(\"Concatenated list  : \", concat_result)\n"
      ]
    },
    {
      "cell_type": "markdown",
      "source": [
        "(11) Write a Python function that accepts a tuple of integers and returns the largest and smallest elements."
      ],
      "metadata": {
        "id": "bkyZ2xSZUOst"
      }
    },
    {
      "cell_type": "code",
      "source": [
        "# Tuple\n",
        "\n",
        "def tuple_min_max(tuPLe):\n",
        "    largest_element = max(tuPLe)\n",
        "    smallest_element = min(tuPLe)\n",
        "    return largest_element, smallest_element\n",
        "\n",
        "tu_ple = (10,14,567,23,5,550,1000,680,1052,29,11,6,3,50)\n",
        "\n",
        "# Call the function and print the results\n",
        "largest, smallest = tuple_min_max(tu_ple)\n",
        "print(f\"Tuple : {tu_ple}\")\n",
        "print(f\"The largest element in the above tuple is : {largest}\")\n",
        "print(f\"The smallest element in the above tuple is : {smallest}\")\n",
        "\n",
        "\n"
      ],
      "metadata": {
        "id": "3FdLRBKOUQEd",
        "colab": {
          "base_uri": "https://localhost:8080/"
        },
        "outputId": "d61090ee-e179-46a2-adb7-28a29e1530a8"
      },
      "execution_count": 46,
      "outputs": [
        {
          "output_type": "stream",
          "name": "stdout",
          "text": [
            "Tuple : (10, 14, 567, 23, 5, 550, 1000, 680, 1052, 29, 11, 6, 3, 50)\n",
            "The largest element in the above tuple is : 1052\n",
            "The smallest element in the above tuple is : 3\n"
          ]
        }
      ]
    },
    {
      "cell_type": "markdown",
      "source": [
        "(12) Write a Python program that counts the frequency of each character in a given string and stores it in a dictionary."
      ],
      "metadata": {
        "id": "O0TVi3gKUTpp"
      }
    },
    {
      "cell_type": "code",
      "source": [
        "# Frequency of characters in string\n",
        "def count_frequency(string):   # creating a function to count the frequency of characters in a string\n",
        "    frequency = {}              # empty dictionary to store characters\n",
        "\n",
        "    for char in string:\n",
        "        if char in frequency:   # iterating through the list characters\n",
        "           frequency[char] += 1   # adding the character with frequency count to the empty dictionary\n",
        "        else:\n",
        "            frequency[char] = 1\n",
        "\n",
        "    return frequency\n",
        "\n",
        "# asking for an input string\n",
        "input_string = input(\"Enter a string: \")\n",
        "\n",
        "# Count and print the frequency of characters\n",
        "frequency_dict = count_frequency(input_string)\n",
        "print(\"Character Frequency:\", frequency_dict)\n",
        "\n"
      ],
      "metadata": {
        "id": "lAtfSfZXUU-h",
        "colab": {
          "base_uri": "https://localhost:8080/"
        },
        "outputId": "956f54af-d4b6-4992-85de-c2c5bad9192e"
      },
      "execution_count": 16,
      "outputs": [
        {
          "output_type": "stream",
          "name": "stdout",
          "text": [
            "Enter a string: The best is yet to come\n",
            "Character Frequency: {'T': 1, 'h': 1, 'e': 4, ' ': 5, 'b': 1, 's': 2, 't': 3, 'i': 1, 'y': 1, 'o': 2, 'c': 1, 'm': 1}\n"
          ]
        }
      ]
    },
    {
      "cell_type": "markdown",
      "metadata": {
        "id": "0v48Vqa7FrQh"
      },
      "source": [
        "(13) Write a Python program to check whether an element exists within a tuple."
      ]
    },
    {
      "cell_type": "code",
      "execution_count": 20,
      "metadata": {
        "id": "7WEmgq-DF2P1",
        "colab": {
          "base_uri": "https://localhost:8080/"
        },
        "outputId": "4964b1d2-2c8d-4046-fb80-188adc455321"
      },
      "outputs": [
        {
          "output_type": "stream",
          "name": "stdout",
          "text": [
            "enter an element to check : 600\n",
            "The element 600 exists in tuple : ? True\n"
          ]
        }
      ],
      "source": [
        "# write your answer here\n",
        "tup_le = (10,11,2,600,75,32,79)  # given tuple\n",
        "a = int(input(\"enter an element to check : \"))     # asking for user input to check if that is present in the tuple\n",
        "\n",
        "result = a in tup_le          # using 'in' to check for the presence of user input in the tuple\n",
        "print(f\"The element {a} exists in tuple : ? {result}\")   # printing the result"
      ]
    },
    {
      "cell_type": "markdown",
      "metadata": {
        "id": "vD5PYLMuGga_"
      },
      "source": [
        "(14) Write a Python program to find maximum and the minimum value in a set."
      ]
    },
    {
      "cell_type": "code",
      "execution_count": 21,
      "metadata": {
        "id": "t0D5kdJUGjjw",
        "colab": {
          "base_uri": "https://localhost:8080/"
        },
        "outputId": "f700ad4d-530d-4938-ee4b-f93df56a56d4"
      },
      "outputs": [
        {
          "output_type": "stream",
          "name": "stdout",
          "text": [
            "Set : {1, 2, 9286, 46, 3798, 250, 475, 94}\n",
            "The maximum value in the set is : 9286\n",
            "The minimum value in the set is : 1\n"
          ]
        }
      ],
      "source": [
        "# write your answer here\n",
        "se1 = {475, 3798,94,1,2,9286,250,46}\n",
        "print(f\"Set : {se1}\")\n",
        "print(f\"The maximum value in the set is : {max(se1)}\")\n",
        "print(f\"The minimum value in the set is : {min(se1)}\")"
      ]
    },
    {
      "cell_type": "markdown",
      "metadata": {
        "id": "uHkd-y5VhVWC"
      },
      "source": [
        "(15) Write a Python program to randomly divide the students in this class into six groups for term projects, each group should have at least 4 students but no more than 6 students (including 6). Here is the students list:\n",
        "student_list_fall_2023=['sb1826' ,\n",
        " 'lb0582' ,\n",
        " 'ab1820' ,\n",
        " 'sb1883' ,\n",
        " 'mb1296' ,\n",
        " 'sc1622' ,\n",
        " 'tc0469' ,\n",
        " 'ac1770' ,\n",
        " 'mc1453' ,\n",
        " 'ad1187' ,\n",
        " 'sd0926' ,\n",
        " 'sd1268' ,\n",
        " 'ag1609' ,\n",
        " 'sg1638' ,\n",
        " 'mg1299' ,\n",
        " 'vkk0022' ,\n",
        " 'bk0413' ,\n",
        " 'gk0257' ,\n",
        " 'am2807' ,\n",
        " 'gm0558' ,\n",
        " 'pm0658' ,\n",
        " 'am2346' ,\n",
        " 'rm1090' ,\n",
        " 'sm2364' ,\n",
        " 'sm2747' ,\n",
        " 'sm2343' ,\n",
        " 'vm0597' ,\n",
        " 'htn0086' ,\n",
        " 'sp2075' ,\n",
        " 'gp0306' ,\n",
        " 'lp0502' ,\n",
        " 'sr1508' ,\n",
        " 'vr0331' ,\n",
        " 'yr0180' ,\n",
        " 'as2819' ,\n",
        " 'ss2981' ,\n",
        " 'ns0756' ,\n",
        " 'mt0825' ,\n",
        " 'dt0463' ,\n",
        " 'su0137' ,\n",
        " 'dv0310'\n",
        "]"
      ]
    },
    {
      "cell_type": "code",
      "execution_count": 1,
      "metadata": {
        "id": "3iGbmcOBhTwy",
        "colab": {
          "base_uri": "https://localhost:8080/"
        },
        "outputId": "c590bc07-5aba-4d64-ccee-ee61801606d6"
      },
      "outputs": [
        {
          "output_type": "stream",
          "name": "stdout",
          "text": [
            "Group 1: ['ag1609', 'mc1453', 'as2819', 'vm0597']\n",
            "Group 2: ['mg1299', 'vr0331', 'lp0502', 'sp2075']\n",
            "Group 3: ['ss2981', 'dv0310', 'gm0558', 'sd0926']\n",
            "Group 4: ['vkk0022', 'sm2343', 'sm2364', 'sb1883']\n",
            "Group 5: ['mb1296', 'am2807', 'yr0180', 'tc0469']\n",
            "Group 6: ['pm0658', 'sg1638', 'su0137', 'sm2747', 'mt0825', 'lb0582']\n",
            "Group 7: ['ac1770', 'ad1187', 'sb1826', 'gk0257']\n",
            "Group 8: ['gp0306', 'sr1508', 'bk0413', 'dt0463']\n",
            "Group 9: ['rm1090', 'ns0756', 'htn0086', 'sd1268']\n",
            "Group 10: ['am2346', 'ab1820', 'sc1622']\n"
          ]
        }
      ],
      "source": [
        "# Class Groups\n",
        "\n",
        "import random\n",
        "\n",
        "student_list_fall_2023 = ['sb1826', 'lb0582', 'ab1820', 'sb1883', 'mb1296', 'sc1622', 'tc0469', 'ac1770', 'mc1453', 'ad1187', 'sd0926', 'sd1268', 'ag1609', 'sg1638', 'mg1299', 'vkk0022', 'bk0413', 'gk0257', 'am2807', 'gm0558', 'pm0658', 'am2346', 'rm1090', 'sm2364', 'sm2747', 'sm2343', 'vm0597', 'htn0086', 'sp2075', 'gp0306', 'lp0502', 'sr1508', 'vr0331', 'yr0180', 'as2819', 'ss2981', 'ns0756', 'mt0825', 'dt0463', 'su0137', 'dv0310']\n",
        "\n",
        "# Shuffle the student list to randomize the order\n",
        "random.shuffle(student_list_fall_2023)\n",
        "\n",
        "# Initialize variables\n",
        "group_count = 0\n",
        "group_size = 0\n",
        "group = []\n",
        "\n",
        "# Divide students into groups\n",
        "for student in student_list_fall_2023:\n",
        "    if group_size < 4 or (group_size < 6 and group_count == 5):\n",
        "        group.append(student)\n",
        "        group_size += 1\n",
        "    else:\n",
        "        print(f\"Group {group_count + 1}:\", group)\n",
        "        group = [student]\n",
        "        group_size = 1\n",
        "        group_count += 1\n",
        "\n",
        "# Print the last group\n",
        "print(f\"Group {group_count + 1}:\", group)\n"
      ]
    },
    {
      "cell_type": "markdown",
      "metadata": {
        "id": "fmZ9vX20Qs3d"
      },
      "source": [
        "(16) Write a Python program to find the duplicate elements in a given array of integers. Return -1 If there are no such elements."
      ]
    },
    {
      "cell_type": "code",
      "execution_count": 22,
      "metadata": {
        "id": "W8Jw6sWMQs3d",
        "colab": {
          "base_uri": "https://localhost:8080/"
        },
        "outputId": "b1407da6-b648-4b61-fa00-c6cc5b83feda"
      },
      "outputs": [
        {
          "output_type": "stream",
          "name": "stdout",
          "text": [
            "Given array :  [45, 67, 88, 92, 1, 4, 10, 2, 8, 123, 42, 77, 12, 89, 33, 50]\n",
            "-1\n"
          ]
        }
      ],
      "source": [
        "def duplicate(array):     # writing a function to find duplicates in an array\n",
        "    em_set = set()        # creating an empty set to store the duplicates\n",
        "    no_duplicate = -1    # creating a varuable for returning -1 if there are no duplicates\n",
        "\n",
        "    for i in range(len(array)):   # looping through the array elements to check for duplicates\n",
        "\n",
        "        if array[i] in em_set:\n",
        "            return array[i]\n",
        "        else:\n",
        "            em_set.add(array[i])\n",
        "\n",
        "    return no_duplicate\n",
        "\n",
        "arr = [45,67,88,92,1,4,10,2,8,123,42,77,12,89,33,50]\n",
        "print(\"Given array : \", arr)\n",
        "\n",
        "result = duplicate(arr)\n",
        "print(result)"
      ]
    },
    {
      "cell_type": "markdown",
      "metadata": {
        "id": "hvq4APMhQs3d"
      },
      "source": [
        "(17) Write a Python program to select all the Sundays of a specified year."
      ]
    },
    {
      "cell_type": "code",
      "execution_count": 23,
      "metadata": {
        "id": "ZnoxhSglQs3d",
        "colab": {
          "base_uri": "https://localhost:8080/"
        },
        "outputId": "432e3992-7c91-433b-e713-62b0d8cab613"
      },
      "outputs": [
        {
          "output_type": "stream",
          "name": "stdout",
          "text": [
            "Enter the year: 2019\n",
            "2019-01-06\n",
            "2019-01-13\n",
            "2019-01-20\n",
            "2019-01-27\n",
            "2019-02-03\n",
            "2019-02-10\n",
            "2019-02-17\n",
            "2019-02-24\n",
            "2019-03-03\n",
            "2019-03-10\n",
            "2019-03-17\n",
            "2019-03-24\n",
            "2019-03-31\n",
            "2019-04-07\n",
            "2019-04-14\n",
            "2019-04-21\n",
            "2019-04-28\n",
            "2019-05-05\n",
            "2019-05-12\n",
            "2019-05-19\n",
            "2019-05-26\n",
            "2019-06-02\n",
            "2019-06-09\n",
            "2019-06-16\n",
            "2019-06-23\n",
            "2019-06-30\n",
            "2019-07-07\n",
            "2019-07-14\n",
            "2019-07-21\n",
            "2019-07-28\n",
            "2019-08-04\n",
            "2019-08-11\n",
            "2019-08-18\n",
            "2019-08-25\n",
            "2019-09-01\n",
            "2019-09-08\n",
            "2019-09-15\n",
            "2019-09-22\n",
            "2019-09-29\n",
            "2019-10-06\n",
            "2019-10-13\n",
            "2019-10-20\n",
            "2019-10-27\n",
            "2019-11-03\n",
            "2019-11-10\n",
            "2019-11-17\n",
            "2019-11-24\n",
            "2019-12-01\n",
            "2019-12-08\n",
            "2019-12-15\n",
            "2019-12-22\n",
            "2019-12-29\n"
          ]
        }
      ],
      "source": [
        "import datetime\n",
        "\n",
        "def find_sundays(year):    # creating a function which takes year as the input and returns the sundays in that year\n",
        "    sundays = []           # empty list to add sundays\n",
        "    date = datetime.date(year, 1, 1)    # assigning the first day of the year\n",
        "    delta = datetime.timedelta(days=1)\n",
        "\n",
        "    while date.year == year:         # looping to check if the day is sunday or no\n",
        "        if date.weekday() == 6:  # Sunday has weekday index 6\n",
        "            sundays.append(date)\n",
        "        date += delta\n",
        "\n",
        "    return sundays\n",
        "\n",
        "year = int(input(\"Enter the year: \"))      # input asking for a specific year to find all the sundays\n",
        "\n",
        "sundays = find_sundays(year)\n",
        "for sunday in sundays:\n",
        "    print(sunday)               # printing results\n",
        "\n"
      ]
    },
    {
      "cell_type": "markdown",
      "source": [
        "(18) Build a program that calculates the factorial of a given positive integer. The factorial of a non-negative integer n is the product of all positive integers less than or equal to n."
      ],
      "metadata": {
        "id": "55FWoSJPVVM6"
      }
    },
    {
      "cell_type": "code",
      "source": [
        "def factorial(x):   # creating a function for calculating factorial\n",
        "    if x == 0 or x == 1:\n",
        "        return 1\n",
        "    else:\n",
        "        return x * factorial(x - 1)\n",
        "\n",
        "inp = int(input(\"Enter a positive integer: \"))      # asking for a number as input to calculate the factorial\n",
        "\n",
        "if inp < 0:\n",
        "    print(\"Negative numbers don't have a factorial\")\n",
        "else:\n",
        "    fact_result = factorial(inp)\n",
        "    print(f\"The factorial of {inp} is {fact_result}.\")\n"
      ],
      "metadata": {
        "id": "hwtr1wZmVX5A",
        "colab": {
          "base_uri": "https://localhost:8080/"
        },
        "outputId": "45ef2eb2-1560-4785-9b27-86f32530ec59"
      },
      "execution_count": 29,
      "outputs": [
        {
          "output_type": "stream",
          "name": "stdout",
          "text": [
            "Enter a positive integer: -1\n",
            "Negative numbers don't have a factorial\n"
          ]
        }
      ]
    },
    {
      "cell_type": "markdown",
      "source": [
        "(19) Write a program that takes a positive integer n as input and prints the count of even numbers from 1 to n. Use a loop to iterate through the numbers and utilize the break statement to optimize the loop."
      ],
      "metadata": {
        "id": "Q9ecagcaVazW"
      }
    },
    {
      "cell_type": "code",
      "source": [
        "\n",
        "inp_n = int(input(\"Enter a number: \"))   # asking for user input\n",
        "\n",
        "count = 0\n",
        "\n",
        "for num in range(1, inp_n + 1):   # looping from 1 upto the number given by user\n",
        "    if num % 2 == 0:                # checking if the number is even\n",
        "        count += 1                    # using count to increment the numbers and take their count if even\n",
        "\n",
        "    if num > inp_n:                 # if the number is odd and is greater than input then the loop will break\n",
        "       break\n",
        "\n",
        "\n",
        "print(f\"The count of even numbers from 1 to {inp_n} is {count}.\")\n"
      ],
      "metadata": {
        "id": "gycgckoAVZjR",
        "colab": {
          "base_uri": "https://localhost:8080/"
        },
        "outputId": "cb454513-1e02-497f-a3ab-933f28981a87"
      },
      "execution_count": 40,
      "outputs": [
        {
          "output_type": "stream",
          "name": "stdout",
          "text": [
            "Enter a number: 10\n",
            "The count of even numbers from 1 to 10 is 5.\n"
          ]
        }
      ]
    },
    {
      "cell_type": "markdown",
      "source": [
        "(20) Write a Python function called count_vowels that takes a string as input and returns the count of vowels (both lowercase and uppercase) present in the string. Consider the vowels to be 'a', 'e', 'i', 'o', and 'u'. Ignore spaces and other non-alphabetic characters."
      ],
      "metadata": {
        "id": "cboAr5pEWUf5"
      }
    },
    {
      "cell_type": "code",
      "source": [
        "# write your answer here\n",
        "def count_vowels(str):         # creating count vowels function\n",
        "  vowels = {'a','e','i','o','u','A','E','I','O','U'}     # storing the vowels both upper and lowercase in a string\n",
        "  store_count = {}             # creating an empty string to store the count of each vowel\n",
        "  for vowel in vowels:\n",
        "    store_count[vowel] = 0    # setting the vowel count initially to zero for each of the vowels\n",
        "\n",
        "  for char in str :           # uterating through each of the ccharacters of the string to check for vowels\n",
        "    if char in vowels:\n",
        "      store_count[char] += 1    # if vowels are present then increment the count of the particular vowel and add it to the count string\n",
        "\n",
        "\n",
        "  return store_count\n",
        "\n",
        "string1 = \"Hello World\"            # random string\n",
        "print(f\"{count_vowels(string1)}\")   # printing the results"
      ],
      "metadata": {
        "id": "phs9gciMWWAW",
        "colab": {
          "base_uri": "https://localhost:8080/"
        },
        "outputId": "b18949a3-3274-4f42-f89a-8af9a4c61e29"
      },
      "execution_count": 42,
      "outputs": [
        {
          "output_type": "stream",
          "name": "stdout",
          "text": [
            "{'i': 0, 'a': 0, 'o': 2, 'e': 1, 'u': 0, 'A': 0, 'O': 0, 'I': 0, 'E': 0, 'U': 0}\n"
          ]
        }
      ]
    },
    {
      "cell_type": "code",
      "source": [],
      "metadata": {
        "id": "wwnZmLKq0drT"
      },
      "execution_count": null,
      "outputs": []
    }
  ],
  "metadata": {
    "colab": {
      "provenance": []
    },
    "kernelspec": {
      "display_name": "Python 3 (ipykernel)",
      "language": "python",
      "name": "python3"
    },
    "language_info": {
      "codemirror_mode": {
        "name": "ipython",
        "version": 3
      },
      "file_extension": ".py",
      "mimetype": "text/x-python",
      "name": "python",
      "nbconvert_exporter": "python",
      "pygments_lexer": "ipython3",
      "version": "3.9.12"
    }
  },
  "nbformat": 4,
  "nbformat_minor": 0
}