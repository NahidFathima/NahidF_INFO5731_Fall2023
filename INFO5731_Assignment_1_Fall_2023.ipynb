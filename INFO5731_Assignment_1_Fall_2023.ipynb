{
  "cells": [
    {
      "cell_type": "markdown",
      "metadata": {
        "id": "view-in-github",
        "colab_type": "text"
      },
      "source": [
        "<a href=\"https://colab.research.google.com/github/NahidFathima/NahidF_INFO5731_Fall2023/blob/main/INFO5731_Assignment_1_Fall_2023.ipynb\" target=\"_parent\"><img src=\"https://colab.research.google.com/assets/colab-badge.svg\" alt=\"Open In Colab\"/></a>"
      ]
    },
    {
      "cell_type": "markdown",
      "metadata": {
        "id": "Ryk8D1Q4Wsrp"
      },
      "source": [
        "# **INFO5731 Assignment One**"
      ]
    },
    {
      "cell_type": "markdown",
      "metadata": {
        "id": "90_NR8c5XGWc"
      },
      "source": [
        "# Question 1\n",
        "\n",
        "(20 points). Write a Python program to generate 12 random numbers between 1 and 100. Sort the list of numbers in ascending order and print it out. Sort the list of numbers in descending order and print it out. Calculate the average for the group and print it out."
      ]
    },
    {
      "cell_type": "code",
      "execution_count": 2,
      "metadata": {
        "id": "5QX6bJjGWXY9",
        "colab": {
          "base_uri": "https://localhost:8080/"
        },
        "outputId": "e10c69d3-d3b5-415c-b93d-636b0c7e7ec6"
      },
      "outputs": [
        {
          "output_type": "stream",
          "name": "stdout",
          "text": [
            "List of 12 random numbers : [58, 61, 38, 13, 18, 93, 35, 60, 92, 30, 43, 44]\n",
            "List sorted in Ascending order : [13, 18, 30, 35, 38, 43, 44, 58, 60, 61, 92, 93]\n",
            "List sorted in Descending order : [93, 92, 61, 60, 58, 44, 43, 38, 35, 30, 18, 13]\n",
            "Average of the list : 48.75\n"
          ]
        }
      ],
      "source": [
        "import random   #importing the random module\n",
        "from statistics import mean       #importing mean function from statistics module\n",
        "def sort_ascend(n):       # creating a function which sorts the list of random numbers in ascending order\n",
        "  a = sorted(n)\n",
        "  print(f\"List sorted in Ascending order : {a}\")\n",
        "\n",
        "def sort_descend(n):     # function for sorting the list in descending order\n",
        "  d = sorted(n, reverse= True)\n",
        "  print(f\"List sorted in Descending order : {d}\")\n",
        "\n",
        "\n",
        "def list_avg(n):        # function to find the average of the list\n",
        "  av = mean(n)\n",
        "  print(f\"Average of the list : {av}\")\n",
        "\n",
        "\n",
        "list_of_numbers = []       # an empty list to store the random numbers\n",
        "for i in range(12):        # using range function to assign how many random numbers need to be generated\n",
        "  random_number = random.randint(1,100)     # using randint to generate the 12 random numbers\n",
        "  list_of_numbers.append(random_number)     # storing the generated numbers in the empty list\n",
        "\n",
        "print(f\"List of 12 random numbers : {list_of_numbers}\")   # printing out the generated list of random numbers\n",
        "\n",
        "sort_ascend(list_of_numbers)      # executing the function for sorting the list in ascending order and printing the ouput\n",
        "\n",
        "sort_descend(list_of_numbers)     # sorting in descending order and printing out the result\n",
        "\n",
        "list_avg(list_of_numbers)         # calculating the average and printing out the result"
      ]
    },
    {
      "cell_type": "markdown",
      "metadata": {
        "id": "1F_PZdH9Sh49"
      },
      "source": [
        "# Question 2\n",
        "(25 points).\n",
        "\n",
        "Write a program that will do the following string formatting tasks:\n",
        "\n",
        "(1) Ask the user to enter two sentences.\n",
        "\n",
        "(2) Make each sentence into a list. Each element in the list should correspond to a word in the sentence. For example, if the sentence is \"Alas! Am I alive? This is my first python program\", the program should print out ['Alas, '!', 'Am', 'I', 'alive, '?', 'This', 'is', 'my', 'first', 'python', 'program'].\n",
        "\n",
        "(3) Compare the two sentences. Print out a list of words that occur in both sentences.\n",
        "\n",
        "(4) Remove any punctuation from the sentence and print it back out. It should remove at least the following characters, but it can remove more: period(“.”), comma (“,”), semicolon (“;”), and colon (“:”)\n",
        "\n",
        "(5) Count the number of vowels in the sentences. Print out each vowel and the number of times it appears in the sentences, such as: a:2, e:1, i:0, etc"
      ]
    },
    {
      "cell_type": "code",
      "execution_count": 3,
      "metadata": {
        "id": "Y0oOSlsOS0cq",
        "colab": {
          "base_uri": "https://localhost:8080/"
        },
        "outputId": "178addec-2180-4bcf-f7cd-ed1ce69521cf"
      },
      "outputs": [
        {
          "output_type": "stream",
          "name": "stdout",
          "text": [
            "Enter the first sentence : this is an emergency! please evacuate immediately!\n",
            "Enter the second sentence : Wow! is this heaven ?\n",
            "Sentence 1: ['this', 'is', 'an', 'emergency', '!', 'please', 'evacuate', 'immediately', '!']\n",
            "Sentence 2: ['Wow', '!', 'is', 'this', 'heaven', '?']\n",
            "Common words: ['this', '!', 'is']\n",
            "Sentence 1 without punctuation : this is an emergency please evacuate immediately\n",
            "Sentence 2 without punctuation : Wow is this heaven \n",
            "Vowel counts in Sentence 1: {'a': 5, 'e': 9, 'i': 4, 'o': 0, 'u': 1}\n",
            "Vowel counts in Sentence 2: {'a': 1, 'e': 2, 'i': 2, 'o': 1, 'u': 0}\n"
          ]
        }
      ],
      "source": [
        "s1 = input(\"Enter the first sentence : \")\n",
        "s2 = input(\"Enter the second sentence : \")\n",
        "\n",
        "import re\n",
        "\n",
        "# function to split a sentence into a list of words and punctuation\n",
        "def split_sentence(sentence):\n",
        "    # Use regular expression to split sentence into words and punctuation\n",
        "    words_and_punctuation = re.findall(r'\\b\\w+\\b|[.,!?;\\'\"]', sentence)\n",
        "\n",
        "    return words_and_punctuation\n",
        "\n",
        "# split each sentence into a list\n",
        "l1 = split_sentence(s1)\n",
        "l2 = split_sentence(s2)\n",
        "\n",
        "# printing the output\n",
        "print(\"Sentence 1:\", l1)\n",
        "print(\"Sentence 2:\", l2)\n",
        "\n",
        "\n",
        "# creating a list to store common words\n",
        "c_list = []\n",
        "\n",
        "# Convert all words in both lists to lowercase\n",
        "l1_lower = [word.lower() for word in l1]\n",
        "l2_lower = [word.lower() for word in l2]\n",
        "\n",
        "# finding common words using set intersection\n",
        "common_words = list(set(l1_lower).intersection(l2_lower))\n",
        "\n",
        "# checking for common words in both lists\n",
        "if common_words:\n",
        "    c_list = common_words\n",
        "    print(\"Common words:\", c_list)\n",
        "else:\n",
        "    print(\"No common words\")\n",
        "\n",
        "import string\n",
        "\n",
        "# writing a function to remove punctuations from the sentences\n",
        "def remove_punctuation(sentence):\n",
        "    # creating a translation table to remove punctuation\n",
        "    translator = str.maketrans('', '', string.punctuation)\n",
        "\n",
        "    # using translate method\n",
        "    clear_sentence = sentence.translate(translator)\n",
        "    return clear_sentence\n",
        "\n",
        "# Remove punctuation from the sentence\n",
        "s1_punc = remove_punctuation(s1)\n",
        "s2_punc = remove_punctuation(s2)\n",
        "\n",
        "# Print the sentence without punctuation\n",
        "print(f\"Sentence 1 without punctuation : {s1_punc}\")\n",
        "print(f\"Sentence 2 without punctuation : {s2_punc}\")\n",
        "\n",
        "# creating a function to count vowels  in the sentences\n",
        "def count_vowels(sentence):\n",
        "    sentence = sentence.lower()\n",
        "    vowels = \"aeiou\"\n",
        "    vowel_counts = {vowel: sentence.count(vowel) for vowel in vowels}\n",
        "    return vowel_counts\n",
        "\n",
        "# Count vowels in both sentences\n",
        "vowel_counts_s1 = count_vowels(s1)\n",
        "vowel_counts_s2 = count_vowels(s2)\n",
        "\n",
        "# Print vowel counts for each sentence\n",
        "print(\"Vowel counts in Sentence 1:\", vowel_counts_s1)\n",
        "print(\"Vowel counts in Sentence 2:\", vowel_counts_s2)\n",
        "\n"
      ]
    },
    {
      "cell_type": "markdown",
      "metadata": {
        "id": "CmFoI4jDS9nx"
      },
      "source": [
        "# Question 3\n",
        "\n",
        "(15 points). The formula that describes the volume V of a sphere with radius r is the following:\n",
        "\n",
        "$ V=\\frac{4}{3}\\ast\\ \\pi\\ast\\ r^3 $\n",
        "\n",
        "Write a program to calculate the value of V when r is in the range of 1–10. Output the result in the following format:\n",
        "\n",
        "\tr\tV\n",
        "\t1\t…\n",
        "\t2\t…\n",
        "\t3\t…\n"
      ]
    },
    {
      "cell_type": "code",
      "execution_count": 4,
      "metadata": {
        "id": "pEyqeioAT95b",
        "colab": {
          "base_uri": "https://localhost:8080/"
        },
        "outputId": "56720ae6-ea78-4ab4-a82a-041dc9aef665"
      },
      "outputs": [
        {
          "output_type": "stream",
          "name": "stdout",
          "text": [
            "r    V\n",
            "1    4.19\n",
            "2    33.51\n",
            "3    113.10\n",
            "4    268.08\n",
            "5    523.60\n",
            "6    904.78\n",
            "7    1436.76\n",
            "8    2144.66\n",
            "9    3053.63\n",
            "10    4188.79\n"
          ]
        }
      ],
      "source": [
        "import math      # importing math module\n",
        "\n",
        "# calculatng the volumes for radius in the range 1-10 using a list comprehension method\n",
        "radius = list(range(1, 11))\n",
        "volumes = [(4/3) * math.pi * r**3 for r in radius]       # formula\n",
        "\n",
        "# Print the results\n",
        "print(\"r    V\")\n",
        "for r, V in zip(radius, volumes):\n",
        "    print(f\"{r}    {V:.2f}\")\n"
      ]
    },
    {
      "cell_type": "markdown",
      "metadata": {
        "id": "z3tBE7E-Xn5X"
      },
      "source": [
        "# Question 4\n",
        "\n",
        "(40 points). In the field of Data Science, data is often formatted as a comma-delimited (CSV) file, where each line in a file corresponds to a field's value. Refer to Chapter 9 (p. 106) for more information on comma-delimited files. To answer this question, you will need to download the file [Assignment1_denton_housing.csv](https://raw.githubusercontent.com/unt-iialab/info5731-spring2022/main/assignments/Assignment1_denton_housing.csv) included with this assignment. The file [Assignment1_denton_housing.csv](https://raw.githubusercontent.com/unt-iialab/info5731-spring2022/main/assignments/Assignment1_denton_housing.csv) contains statistics about housing in the city of Denton from 2008 to 2014. Write a program to implement the following questions.\n",
        "\n",
        "(1) (10 pts) Calculate the difference in the number of Occupied Housing Units from year to year and print it. The difference must be calculated for the consecutive years such as 2008-2009, 2009-2010 etc. Finally, print the values in the ascending order.\n",
        "\n",
        "(2) (10 pts) For all the years, calculate the percentage of housing units which are vacant an occupied. Print the results in the following format:\n",
        "\n",
        "Year Vacant Housing Units Occupied Housing Units\n",
        "\n",
        "    2008  30%   70%                          \n",
        "\t2009 ----- -----\n",
        "\t2010 ----- -----\n",
        "    2011 ----- -----\n",
        "\t2012 ----- -----\n",
        "    2013 ----- -----\n",
        "\t2014 ----- -----\n",
        "  \n",
        "  \n",
        "\n",
        "(3) (10 pts) Calculate and print the valued and years in which the highest number of housing units were vacant and occupied. Print the results in the following format:  \n",
        "\n",
        "                              Year\tValue\n",
        "\tVacant Housing Units\t  -----   -----\n",
        "\tOccupied Housing Units\t-----   -----\n",
        "\n",
        "(4) (10 pts) Calculate the harmonic mean of the total housing units and print it out. You can find the information about harmonic mean here: https://ncalculators.com/statistics/harmonic-mean-calculator.htm"
      ]
    },
    {
      "cell_type": "code",
      "execution_count": 11,
      "metadata": {
        "id": "lqGYuHBhcsRH",
        "colab": {
          "base_uri": "https://localhost:8080/"
        },
        "outputId": "781c3869-2291-4203-8086-37915aaa7c38"
      },
      "outputs": [
        {
          "output_type": "stream",
          "name": "stdout",
          "text": [
            "    year  Difference\n",
            "20  2008       795.0\n",
            "17  2009     -5091.0\n",
            "14  2010       303.0\n",
            "11  2011     -1404.0\n",
            "8   2012     -1565.0\n",
            "5   2013     -2622.0\n",
            "2   2014         NaN\n"
          ]
        }
      ],
      "source": [
        "# Calculate the difference in the number of Occupied Housing Units from year to year\n",
        "\n",
        "import pandas as pd     # importing pandas\n",
        "\n",
        "#reading the csv file to pandas dataframe\n",
        "my_data = pd.read_csv(\"Assignment1_denton_housing.csv\")\n",
        "my_data.head()\n",
        "\n",
        "# including only rows with 'Occupied Housing Units' in the 'title_field'\n",
        "occupied_units_data = my_data[my_data['title_field'] == 'Occupied Housing Units'].copy()\n",
        "\n",
        "# creating a copy of the dataframe for calculations and avoiding any warnings\n",
        "occupied_units_data_copy = occupied_units_data.copy()\n",
        "\n",
        "# calculating the difference in occupied units for comsecutive years\n",
        "occupied_units_data_copy['Difference'] = occupied_units_data_copy['value'].astype(int).diff()\n",
        "\n",
        "# Sort the DataFrame by year and print it\n",
        "sorted_data = occupied_units_data_copy.sort_values(by='year')\n",
        "print(sorted_data[['year', 'Difference']])\n"
      ]
    },
    {
      "cell_type": "code",
      "source": [
        "# calculate the percentage of housing units which are vacant an occupied\n",
        "\n",
        "# Filter the DataFrame to include only rows with 'Vacant Housing Units' and 'Occupied Housing Units' in the 'title_field'\n",
        "filtered_data = my_data[my_data['title_field'].isin(['Vacant Housing Units', 'Occupied Housing Units'])].copy()\n",
        "\n",
        "# filtering the dataframe to have years as columns and values as 'value'\n",
        "pivot_data = filtered_data.pivot(index='year', columns='title_field', values='value')\n",
        "\n",
        "# calculating the percentage of vacant and occupied housing units for each year\n",
        "pivot_data['Vacant Housing Units'] = pivot_data['Vacant Housing Units'].astype(int)\n",
        "pivot_data['Occupied Housing Units'] = pivot_data['Occupied Housing Units'].astype(int)\n",
        "pivot_data['Total Housing Units'] = pivot_data['Vacant Housing Units'] + pivot_data['Occupied Housing Units']\n",
        "pivot_data['% Vacant Housing Units'] = (pivot_data['Vacant Housing Units'] / pivot_data['Total Housing Units']) * 100\n",
        "pivot_data['% Occupied Housing Units'] = (pivot_data['Occupied Housing Units'] / pivot_data['Total Housing Units']) * 100\n",
        "\n",
        "# printing the results in the specified format\n",
        "print(\"Year Vacant Housing Units Occupied Housing Units\")\n",
        "for year, row in pivot_data.iterrows():\n",
        "    print(f\"{year}    {row['% Vacant Housing Units']:.0f}%   {row['% Occupied Housing Units']:.0f}%\")\n"
      ],
      "metadata": {
        "colab": {
          "base_uri": "https://localhost:8080/"
        },
        "id": "S1zqZNuWbxG-",
        "outputId": "a4d60296-3bc8-457b-8332-7afea76c1c41"
      },
      "execution_count": 12,
      "outputs": [
        {
          "output_type": "stream",
          "name": "stdout",
          "text": [
            "Year Vacant Housing Units Occupied Housing Units\n",
            "2008    11%   89%\n",
            "2009    9%   91%\n",
            "2010    8%   92%\n",
            "2011    9%   91%\n",
            "2012    7%   93%\n",
            "2013    9%   91%\n",
            "2014    6%   94%\n"
          ]
        }
      ]
    },
    {
      "cell_type": "code",
      "source": [
        "# finding the years and values with the highest number of vacant and occupied units\n",
        "\n",
        "# max_vacant_year stores the year in which the highest number of vacant housing units occurred.\n",
        "max_vacant_year = pivot_data['Vacant Housing Units'].idxmax()     # extracting the 'Vacant Housing Units' column from the data frame\n",
        "# idmax function is used to find the index where the maximum value occurs in the 'Vacant Housing Units' column\n",
        "max_occupied_year = pivot_data['Occupied Housing Units'].idxmax()  # same as above, but for 'Occupied Housing Units' column of the dataframe\n",
        "max_vacant_value = pivot_data['Vacant Housing Units'].max()\n",
        "max_occupied_value = pivot_data['Occupied Housing Units'].max()\n",
        "\n",
        "# printing the results\n",
        "print(\"\\nYear    Value\")\n",
        "print(f\"Vacant Housing Units      {max_vacant_year}   {max_vacant_value}\")\n",
        "print(f\"Occupied Housing Units    {max_occupied_year}   {max_occupied_value}\")\n"
      ],
      "metadata": {
        "colab": {
          "base_uri": "https://localhost:8080/"
        },
        "id": "jbYOTz1igfwC",
        "outputId": "9e0acb11-af7d-426a-cb18-5d3817b96dbe"
      },
      "execution_count": 13,
      "outputs": [
        {
          "output_type": "stream",
          "name": "stdout",
          "text": [
            "\n",
            "Year    Value\n",
            "Vacant Housing Units      2008   4483\n",
            "Occupied Housing Units    2014   46295\n"
          ]
        }
      ]
    },
    {
      "cell_type": "code",
      "source": [
        "# harmonic mean\n",
        "\n",
        "# calculating the harmonic mean of the total housing units\n",
        "harmonic_mean = 1 / ((1 / pivot_data['Total Housing Units']).mean())\n",
        "\n",
        "# printing the output\n",
        "print(f\"\\nHarmonic Mean of Total Housing Units: {harmonic_mean:.2f}\")\n"
      ],
      "metadata": {
        "colab": {
          "base_uri": "https://localhost:8080/"
        },
        "id": "_DkGFfU2iLMT",
        "outputId": "147d6d0a-5688-460f-88ce-8101b202d6a2"
      },
      "execution_count": 14,
      "outputs": [
        {
          "output_type": "stream",
          "name": "stdout",
          "text": [
            "\n",
            "Harmonic Mean of Total Housing Units: 44398.29\n"
          ]
        }
      ]
    },
    {
      "cell_type": "code",
      "source": [],
      "metadata": {
        "id": "YoIZIH_piYUo"
      },
      "execution_count": null,
      "outputs": []
    }
  ],
  "metadata": {
    "colab": {
      "provenance": [],
      "include_colab_link": true
    },
    "kernelspec": {
      "display_name": "Python 3 (ipykernel)",
      "language": "python",
      "name": "python3"
    },
    "language_info": {
      "codemirror_mode": {
        "name": "ipython",
        "version": 3
      },
      "file_extension": ".py",
      "mimetype": "text/x-python",
      "name": "python",
      "nbconvert_exporter": "python",
      "pygments_lexer": "ipython3",
      "version": "3.9.12"
    }
  },
  "nbformat": 4,
  "nbformat_minor": 0
}